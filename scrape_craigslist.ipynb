{
 "cells": [
  {
   "cell_type": "code",
   "execution_count": 1,
   "metadata": {},
   "outputs": [],
   "source": [
    "keywords = ''\n",
    "cities = ''\n",
    "latlonglookup = ''\n",
    "daterange = ''\n",
    "#CraigslistCommunity\n",
    "#from craigslist import CraigslistHousing\n",
    "#cl_h = CraigslistHousing(site='sfbay', area='sfc', category='roo',\n",
    "#                        filters={'max_price': 1200, 'private_room': True})\n"
   ]
  },
  {
   "cell_type": "code",
   "execution_count": 13,
   "metadata": {},
   "outputs": [],
   "source": [
    "from craigslist import CraigslistCommunity\n",
    "import json"
   ]
  },
  {
   "cell_type": "code",
   "execution_count": 7,
   "metadata": {},
   "outputs": [
    {
     "name": "stdout",
     "output_type": "stream",
     "text": [
      "Base filters:\n",
      "* query = ...\n",
      "* search_titles = True/False\n",
      "* has_image = True/False\n",
      "* posted_today = True/False\n",
      "* bundle_duplicates = True/False\n",
      "* search_distance = ...\n",
      "* zip_code = ...\n",
      "Section specific filters:\n"
     ]
    }
   ],
   "source": [
    "CraigslistCommunity.show_filters()"
   ]
  },
  {
   "cell_type": "code",
   "execution_count": 14,
   "metadata": {},
   "outputs": [],
   "source": [
    "#get_results(limit=2`)\n",
    "''' atl\n",
    "nat\n",
    "eat\n",
    "sat\n",
    "wa\n",
    "'''\n",
    "'''\n",
    " boston\n",
    "    gbs\n",
    "    nwb\n",
    "    bmw\n",
    "    nos\n",
    "    sob\n",
    "'''\n",
    "results = []"
   ]
  },
  {
   "cell_type": "code",
   "execution_count": 17,
   "metadata": {},
   "outputs": [
    {
     "name": "stdout",
     "output_type": "stream",
     "text": [
      "{'id': '7171431912', 'repost_of': None, 'name': '== 28Y/R Divorced white Mommy ==', 'url': 'https://atlanta.craigslist.org/nat/mis/d/smyrna-28y-divorced-white-mommy/7171431912.html', 'datetime': '2020-08-04 15:58', 'last_updated': '2020-08-04 15:58', 'price': None, 'where': None, 'has_image': False, 'geotag': None, 'deleted': False, 'body': \"28y Divorced MOmmy Board lets have fun Don't W Ste my time or yrs. If Ur serious and free now then hit me.\", 'created': '2020-08-04 14:25', 'images': [], 'attrs': []}\n",
      "{'id': '7171413090', 'repost_of': None, 'name': 'And Gus Makes Three', 'url': 'https://atlanta.craigslist.org/nat/mis/d/alpharetta-and-gus-makes-three/7171413090.html', 'datetime': '2020-08-04 14:50', 'last_updated': '2020-08-04 14:50', 'price': None, 'where': None, 'has_image': False, 'geotag': None, 'deleted': False, 'body': \"You're new to the neighborhood... I see you all the time with Gus.  We passed each other today while I was jogging.  You love basketball shorts and hats. HMU if you're ever in the mood to have a drink since we're neighbors.  Black dude here...\", 'created': '2020-08-04 13:59', 'images': [], 'attrs': [], 'address': '13201 Deerfield Parkway'}\n"
     ]
    }
   ],
   "source": [
    "atl_cl = CraigslistCommunity(site='atlanta', area='nat', category='mis')\n",
    "for result in atl_cl.get_results(include_details=True, limit=2):\n",
    "    print(result)\n",
    "    results.append(result)"
   ]
  },
  {
   "cell_type": "code",
   "execution_count": 18,
   "metadata": {},
   "outputs": [
    {
     "name": "stdout",
     "output_type": "stream",
     "text": [
      "[\n",
      "  {\n",
      "    \"id\": \"7171431912\",\n",
      "    \"repost_of\": null,\n",
      "    \"name\": \"== 28Y/R Divorced white Mommy ==\",\n",
      "    \"url\": \"https://atlanta.craigslist.org/nat/mis/d/smyrna-28y-divorced-white-mommy/7171431912.html\",\n",
      "    \"datetime\": \"2020-08-04 15:58\",\n",
      "    \"last_updated\": \"2020-08-04 15:58\",\n",
      "    \"price\": null,\n",
      "    \"where\": null,\n",
      "    \"has_image\": false,\n",
      "    \"geotag\": null,\n",
      "    \"deleted\": false\n",
      "  },\n",
      "  {\n",
      "    \"id\": \"7171413090\",\n",
      "    \"repost_of\": null,\n",
      "    \"name\": \"And Gus Makes Three\",\n",
      "    \"url\": \"https://atlanta.craigslist.org/nat/mis/d/alpharetta-and-gus-makes-three/7171413090.html\",\n",
      "    \"datetime\": \"2020-08-04 14:50\",\n",
      "    \"last_updated\": \"2020-08-04 14:50\",\n",
      "    \"price\": null,\n",
      "    \"where\": null,\n",
      "    \"has_image\": false,\n",
      "    \"geotag\": null,\n",
      "    \"deleted\": false\n",
      "  },\n",
      "  {\n",
      "    \"id\": \"7171431912\",\n",
      "    \"repost_of\": null,\n",
      "    \"name\": \"== 28Y/R Divorced white Mommy ==\",\n",
      "    \"url\": \"https://atlanta.craigslist.org/nat/mis/d/smyrna-28y-divorced-white-mommy/7171431912.html\",\n",
      "    \"datetime\": \"2020-08-04 15:58\",\n",
      "    \"last_updated\": \"2020-08-04 15:58\",\n",
      "    \"price\": null,\n",
      "    \"where\": null,\n",
      "    \"has_image\": false,\n",
      "    \"geotag\": null,\n",
      "    \"deleted\": false,\n",
      "    \"body\": \"28y Divorced MOmmy Board lets have fun Don't W Ste my time or yrs. If Ur serious and free now then hit me.\",\n",
      "    \"created\": \"2020-08-04 14:25\",\n",
      "    \"images\": [],\n",
      "    \"attrs\": []\n",
      "  },\n",
      "  {\n",
      "    \"id\": \"7171413090\",\n",
      "    \"repost_of\": null,\n",
      "    \"name\": \"And Gus Makes Three\",\n",
      "    \"url\": \"https://atlanta.craigslist.org/nat/mis/d/alpharetta-and-gus-makes-three/7171413090.html\",\n",
      "    \"datetime\": \"2020-08-04 14:50\",\n",
      "    \"last_updated\": \"2020-08-04 14:50\",\n",
      "    \"price\": null,\n",
      "    \"where\": null,\n",
      "    \"has_image\": false,\n",
      "    \"geotag\": null,\n",
      "    \"deleted\": false,\n",
      "    \"body\": \"You're new to the neighborhood... I see you all the time with Gus.  We passed each other today while I was jogging.  You love basketball shorts and hats. HMU if you're ever in the mood to have a drink since we're neighbors.  Black dude here...\",\n",
      "    \"created\": \"2020-08-04 13:59\",\n",
      "    \"images\": [],\n",
      "    \"attrs\": [],\n",
      "    \"address\": \"13201 Deerfield Parkway\"\n",
      "  }\n",
      "]\n"
     ]
    }
   ],
   "source": [
    "print(json.dumps(results, indent=2))"
   ]
  },
  {
   "cell_type": "code",
   "execution_count": null,
   "metadata": {},
   "outputs": [],
   "source": []
  }
 ],
 "metadata": {
  "kernelspec": {
   "display_name": "Python 3",
   "language": "python",
   "name": "python3"
  },
  "language_info": {
   "codemirror_mode": {
    "name": "ipython",
    "version": 3
   },
   "file_extension": ".py",
   "mimetype": "text/x-python",
   "name": "python",
   "nbconvert_exporter": "python",
   "pygments_lexer": "ipython3",
   "version": "3.6.9"
  }
 },
 "nbformat": 4,
 "nbformat_minor": 2
}
