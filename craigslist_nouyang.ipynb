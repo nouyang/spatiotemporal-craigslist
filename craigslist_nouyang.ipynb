{
 "cells": [
  {
   "cell_type": "markdown",
   "metadata": {},
   "source": [
    "# Notebook to map Covid-19 cases\n",
    "\n",
    "Demo craigslist scraper & spatiotemporal interactive display"
   ]
  },
  {
   "cell_type": "code",
   "execution_count": 2,
   "metadata": {},
   "outputs": [],
   "source": [
    "import folium\n",
    "import pandas as pd\n",
    "from folium import plugins\n",
    "from datetime import timedelta, date\n",
    "import numpy as np\n",
    "import urllib\n",
    "import os"
   ]
  },
  {
   "cell_type": "markdown",
   "metadata": {},
   "source": [
    "## We create a generator and fetch data from the open Covid-19 data on github\n",
    "This fetches the underlying data"
   ]
  },
  {
   "cell_type": "code",
   "execution_count": 13,
   "metadata": {
    "scrolled": true
   },
   "outputs": [
    {
     "name": "stdout",
     "output_type": "stream",
     "text": [
      "01-22-2020.csv\n",
      "01-23-2020.csv\n",
      "01-24-2020.csv\n",
      "01-25-2020.csv\n",
      "01-26-2020.csv\n",
      "01-27-2020.csv\n",
      "01-28-2020.csv\n",
      "01-29-2020.csv\n",
      "01-30-2020.csv\n",
      "01-31-2020.csv\n",
      "02-01-2020.csv\n",
      "02-02-2020.csv\n",
      "02-03-2020.csv\n",
      "02-04-2020.csv\n",
      "02-05-2020.csv\n",
      "02-06-2020.csv\n",
      "02-07-2020.csv\n",
      "02-08-2020.csv\n",
      "02-09-2020.csv\n",
      "02-10-2020.csv\n",
      "02-11-2020.csv\n",
      "02-12-2020.csv\n",
      "02-13-2020.csv\n",
      "02-14-2020.csv\n",
      "02-15-2020.csv\n",
      "02-16-2020.csv\n",
      "02-17-2020.csv\n",
      "02-18-2020.csv\n",
      "02-19-2020.csv\n",
      "02-20-2020.csv\n",
      "02-21-2020.csv\n",
      "02-22-2020.csv\n",
      "02-23-2020.csv\n",
      "02-24-2020.csv\n",
      "02-25-2020.csv\n",
      "02-26-2020.csv\n",
      "02-27-2020.csv\n",
      "02-28-2020.csv\n",
      "02-29-2020.csv\n",
      "03-01-2020.csv\n",
      "03-02-2020.csv\n",
      "03-03-2020.csv\n",
      "03-04-2020.csv\n",
      "03-05-2020.csv\n",
      "03-06-2020.csv\n",
      "03-07-2020.csv\n",
      "03-08-2020.csv\n",
      "03-09-2020.csv\n",
      "03-10-2020.csv\n",
      "03-11-2020.csv\n",
      "03-12-2020.csv\n",
      "03-13-2020.csv\n",
      "03-14-2020.csv\n",
      "03-15-2020.csv\n",
      "03-16-2020.csv\n",
      "03-17-2020.csv\n",
      "03-18-2020.csv\n",
      "03-19-2020.csv\n",
      "03-20-2020.csv\n",
      "03-21-2020.csv\n",
      "03-22-2020.csv\n",
      "03-23-2020.csv\n",
      "03-24-2020.csv\n",
      "03-25-2020.csv\n",
      "03-26-2020.csv\n",
      "03-27-2020.csv\n",
      "03-28-2020.csv\n",
      "03-29-2020.csv\n",
      "03-30-2020.csv\n",
      "03-31-2020.csv\n",
      "04-01-2020.csv\n",
      "04-02-2020.csv\n",
      "04-03-2020.csv\n",
      "04-04-2020.csv\n",
      "04-05-2020.csv\n",
      "04-06-2020.csv\n",
      "04-07-2020.csv\n",
      "04-08-2020.csv\n",
      "04-09-2020.csv\n",
      "04-10-2020.csv\n",
      "04-11-2020.csv\n",
      "04-12-2020.csv\n",
      "04-13-2020.csv\n",
      "04-14-2020.csv\n",
      "04-15-2020.csv\n",
      "04-16-2020.csv\n",
      "04-17-2020.csv\n",
      "04-18-2020.csv\n",
      "04-19-2020.csv\n",
      "04-20-2020.csv\n",
      "04-21-2020.csv\n",
      "04-22-2020.csv\n",
      "04-23-2020.csv\n",
      "04-24-2020.csv\n",
      "04-25-2020.csv\n",
      "04-26-2020.csv\n",
      "04-27-2020.csv\n",
      "04-28-2020.csv\n",
      "04-29-2020.csv\n",
      "04-30-2020.csv\n",
      "05-01-2020.csv\n",
      "05-02-2020.csv\n",
      "05-03-2020.csv\n",
      "05-04-2020.csv\n",
      "05-05-2020.csv\n",
      "05-06-2020.csv\n",
      "05-07-2020.csv\n",
      "05-08-2020.csv\n",
      "05-09-2020.csv\n",
      "05-10-2020.csv\n",
      "05-11-2020.csv\n",
      "05-12-2020.csv\n",
      "05-13-2020.csv\n",
      "05-14-2020.csv\n",
      "05-15-2020.csv\n",
      "05-16-2020.csv\n",
      "05-17-2020.csv\n",
      "05-18-2020.csv\n",
      "05-19-2020.csv\n",
      "05-20-2020.csv\n",
      "05-21-2020.csv\n",
      "05-22-2020.csv\n",
      "05-23-2020.csv\n",
      "05-24-2020.csv\n",
      "05-25-2020.csv\n",
      "05-26-2020.csv\n",
      "05-27-2020.csv\n",
      "05-28-2020.csv\n",
      "05-29-2020.csv\n",
      "05-30-2020.csv\n",
      "05-31-2020.csv\n",
      "06-01-2020.csv\n",
      "06-02-2020.csv\n",
      "06-03-2020.csv\n",
      "06-04-2020.csv\n",
      "06-05-2020.csv\n",
      "06-06-2020.csv\n",
      "06-07-2020.csv\n",
      "06-08-2020.csv\n",
      "06-09-2020.csv\n",
      "06-10-2020.csv\n",
      "06-11-2020.csv\n",
      "06-12-2020.csv\n",
      "06-13-2020.csv\n",
      "06-14-2020.csv\n",
      "06-15-2020.csv\n",
      "06-16-2020.csv\n",
      "06-17-2020.csv\n",
      "06-18-2020.csv\n",
      "06-19-2020.csv\n",
      "06-20-2020.csv\n",
      "06-21-2020.csv\n",
      "06-22-2020.csv\n",
      "06-23-2020.csv\n",
      "06-24-2020.csv\n",
      "06-25-2020.csv\n",
      "06-26-2020.csv\n",
      "06-27-2020.csv\n",
      "06-28-2020.csv\n",
      "06-29-2020.csv\n",
      "06-30-2020.csv\n",
      "07-01-2020.csv\n",
      "07-02-2020.csv\n",
      "07-03-2020.csv\n",
      "07-04-2020.csv\n",
      "07-05-2020.csv\n",
      "07-06-2020.csv\n",
      "07-07-2020.csv\n",
      "07-08-2020.csv\n",
      "07-09-2020.csv\n",
      "07-10-2020.csv\n",
      "07-11-2020.csv\n",
      "07-12-2020.csv\n",
      "07-13-2020.csv\n",
      "07-14-2020.csv\n",
      "07-15-2020.csv\n",
      "07-16-2020.csv\n",
      "07-17-2020.csv\n",
      "07-18-2020.csv\n",
      "07-19-2020.csv\n",
      "07-20-2020.csv\n",
      "07-21-2020.csv\n",
      "07-22-2020.csv\n",
      "07-23-2020.csv\n",
      "07-24-2020.csv\n",
      "07-25-2020.csv\n",
      "07-26-2020.csv\n",
      "07-27-2020.csv\n",
      "07-28-2020.csv\n",
      "07-29-2020.csv\n",
      "07-30-2020.csv\n",
      "07-31-2020.csv\n",
      "08-01-2020.csv\n",
      "08-02-2020.csv\n",
      "08-03-2020.csv\n"
     ]
    }
   ],
   "source": [
    "map_hooray = folium.Map(zoom_start=12) \n",
    "\n",
    "def daterange(start_date, end_date):\n",
    "    for n in range(int ((end_date - start_date).days)):\n",
    "        yield start_date + timedelta(n)\n",
    "\n",
    "start_date = date(2020, 1, 22)\n",
    "end_date = date.today()\n",
    "\n",
    "DIR = \"./csse_covid_19_daily_reports\"\n",
    "if not os.path.isdir(DIR):\n",
    "        os.makedirs(DIR)\n",
    "for single_date in daterange(start_date, end_date):\n",
    "    urllib.request.urlretrieve(f\"https://raw.githubusercontent.com/CSSEGISandData/COVID-19/master/csse_covid_19_data/csse_covid_19_daily_reports/{single_date.strftime('%m-%d-%Y')}.csv\", \n",
    "                      f\"{DIR}/{single_date.strftime('%m-%d-%Y')}.csv\")\n",
    "    print(f\"{single_date.strftime('%m-%d-%Y')}.csv\")\n"
   ]
  },
  {
   "cell_type": "code",
   "execution_count": 4,
   "metadata": {},
   "outputs": [],
   "source": [
    "map_hooray = folium.Map(zoom_start=12) \n",
    "\n",
    "def daterange(start_date, end_date):\n",
    "    for n in range(int ((end_date - start_date).days)):\n",
    "        yield start_date + timedelta(n)\n",
    "DIR = \"./csse_covid_19_daily_reports\"\n",
    "\n",
    "start_date = date(2020, 1, 22)\n",
    "end_date = date.today()\n",
    "df = pd.DataFrame()\n",
    "for single_date in daterange(start_date, end_date):\n",
    "    fp = f\"{DIR}/{single_date.strftime('%m-%d-%Y')}.csv\"\n",
    "    df = df.append(pd.read_csv(fp).rename(columns={\"Province_State\":\"Province/State\",\"Country_Region\":\"Country/Region\",\"Last_Update\":\"Last Update\",\"Lat\":\"Latitude\",\"Long_\":\"Longitude\"}))\n"
   ]
  },
  {
   "cell_type": "code",
   "execution_count": 20,
   "metadata": {},
   "outputs": [
    {
     "name": "stdout",
     "output_type": "stream",
     "text": [
      "  Province/State  Country/Region      Last Update  Confirmed  Deaths  \\\n",
      "0          Anhui  Mainland China  1/22/2020 17:00        1.0     NaN   \n",
      "1        Beijing  Mainland China  1/22/2020 17:00       14.0     NaN   \n",
      "2      Chongqing  Mainland China  1/22/2020 17:00        6.0     NaN   \n",
      "3         Fujian  Mainland China  1/22/2020 17:00        1.0     NaN   \n",
      "4          Gansu  Mainland China  1/22/2020 17:00        NaN     NaN   \n",
      "\n",
      "   Recovered  Latitude  Longitude  FIPS Admin2  Active Combined_Key  \\\n",
      "0        NaN       NaN        NaN   NaN    NaN     NaN          NaN   \n",
      "1        NaN       NaN        NaN   NaN    NaN     NaN          NaN   \n",
      "2        NaN       NaN        NaN   NaN    NaN     NaN          NaN   \n",
      "3        NaN       NaN        NaN   NaN    NaN     NaN          NaN   \n",
      "4        NaN       NaN        NaN   NaN    NaN     NaN          NaN   \n",
      "\n",
      "   Incidence_Rate  Case-Fatality_Ratio  \n",
      "0             NaN                  NaN  \n",
      "1             NaN                  NaN  \n",
      "2             NaN                  NaN  \n",
      "3             NaN                  NaN  \n",
      "4             NaN                  NaN  \n",
      "Index(['Province/State', 'Country/Region', 'Last Update', 'Confirmed',\n",
      "       'Deaths', 'Recovered', 'Latitude', 'Longitude', 'FIPS', 'Admin2',\n",
      "       'Active', 'Combined_Key', 'Incidence_Rate', 'Case-Fatality_Ratio'],\n",
      "      dtype='object')\n",
      "           Confirmed         Deaths     Recovered       Latitude  \\\n",
      "count  476374.000000  475952.000000  4.760050e+05  464943.000000   \n",
      "mean     1996.447552     100.687889  9.805543e+02      36.251826   \n",
      "std     13105.150203     991.564614  1.373551e+04      11.879024   \n",
      "min         0.000000       0.000000  0.000000e+00     -52.368000   \n",
      "25%         9.000000       0.000000  0.000000e+00      33.615700   \n",
      "50%        54.000000       1.000000  0.000000e+00      37.924657   \n",
      "75%       339.000000       9.000000  0.000000e+00      41.793753   \n",
      "max    560218.000000   41598.000000  1.513446e+06      72.000000   \n",
      "\n",
      "           Longitude           FIPS        Active  Incidence_Rate  \\\n",
      "count  464943.000000  403480.000000  4.686690e+05   248950.000000   \n",
      "mean      -75.599286   31391.618021  9.034031e+02      531.383141   \n",
      "std        48.982638   17106.966960  1.507347e+04      781.073437   \n",
      "min      -174.159600      66.000000 -2.295866e+06        0.000000   \n",
      "25%       -96.259035   18163.000000  4.000000e+00      104.634461   \n",
      "50%       -87.369950   29183.000000  4.000000e+01      274.589597   \n",
      "75%       -79.528196   46069.000000  2.590000e+02      647.027228   \n",
      "max       178.065000   99999.000000  2.490150e+05    13931.230060   \n",
      "\n",
      "       Case-Fatality_Ratio  \n",
      "count        250393.000000  \n",
      "mean              3.332341  \n",
      "std              30.354460  \n",
      "min               0.000000  \n",
      "25%               0.000000  \n",
      "50%               1.526718  \n",
      "75%               4.241774  \n",
      "max            5500.000000  \n",
      "\n",
      "(476393, 14) shape\n"
     ]
    }
   ],
   "source": [
    "print(df.head())\n",
    "print(df.columns)\n",
    "print(df.describe())\n",
    "print()\n",
    "print(f\"{df.shape} shape\")"
   ]
  },
  {
   "cell_type": "markdown",
   "metadata": {},
   "source": [
    "## Map in the lon/lats that have come into the datasets\n",
    "Some of the initial data points missed longitude and latitude, so we map that back based on the provice and country"
   ]
  },
  {
   "cell_type": "code",
   "execution_count": 36,
   "metadata": {},
   "outputs": [],
   "source": [
    "# We need to map in the coordintes for some of the first dates\n",
    "\n",
    "df[\"Province/State\"] = df[\"Province/State\"].fillna(\"N/A\")\n",
    "df2 = df[[\"Province/State\",\"Country/Region\",\"Latitude\",\"Longitude\"]].dropna(axis=0).groupby([\"Province/State\",\"Country/Region\"]).first()\n",
    "\n",
    "df_acc = df[[\"Province/State\",\"Country/Region\",\"Last Update\",\"Confirmed\",\"Deaths\",\"Recovered\"]].set_index([\"Province/State\",\"Country/Region\"]).join(df2)\n"
   ]
  },
  {
   "cell_type": "code",
   "execution_count": 37,
   "metadata": {},
   "outputs": [
    {
     "name": "stdout",
     "output_type": "stream",
     "text": [
      "Index(['Last Update', 'Confirmed', 'Deaths', 'Recovered', 'Latitude',\n",
      "       'Longitude'],\n",
      "      dtype='object')\n",
      "\n",
      "(476393, 6) shape\n"
     ]
    }
   ],
   "source": [
    "print(df_acc.columns)\n",
    "print()\n",
    "print(f\"{df_acc.shape} shape\")"
   ]
  },
  {
   "cell_type": "markdown",
   "metadata": {},
   "source": [
    "## We need to add an initial 0 so that we can fill in missing dates\n",
    "All missing reports for each country will be filled with the previous value"
   ]
  },
  {
   "cell_type": "code",
   "execution_count": 38,
   "metadata": {},
   "outputs": [
    {
     "name": "stdout",
     "output_type": "stream",
     "text": [
      "Index(['Latitude', 'Longitude', 'Last Update', 'Confirmed', 'Deaths',\n",
      "       'Recovered'],\n",
      "      dtype='object')\n",
      "Shape: (978, 6)\n",
      "\n",
      "Index(['Last Update', 'Confirmed', 'Deaths', 'Recovered', 'Latitude',\n",
      "       'Longitude'],\n",
      "      dtype='object')\n",
      "Shape: (477371, 6)\n"
     ]
    }
   ],
   "source": [
    "# Add 0 initial value to all locations\n",
    "df3=df2.copy()\n",
    "df3[\"Last Update\"]=start_date-timedelta(days=1)\n",
    "df3[\"Confirmed\"]=0\n",
    "df3[\"Deaths\"]=0\n",
    "df3[\"Recovered\"]=0\n",
    "print(df3.columns)\n",
    "print(f\"Shape: {df3.shape}\")\n",
    "df_acc = df_acc.append(df3)\n",
    "print()\n",
    "print(df_acc.columns)\n",
    "print(f\"Shape: {df_acc.shape}\")"
   ]
  },
  {
   "cell_type": "code",
   "execution_count": 39,
   "metadata": {},
   "outputs": [],
   "source": [
    "# enforce datetime column\n",
    "df_acc[\"Last Update\"] = pd.to_datetime(df_acc[\"Last Update\"]).dt.date\n",
    "df_acc = df_acc.reset_index()\n",
    "df_acc[\"Location\"] = df_acc[\"Province/State\"]+\", \"+df_acc[\"Country/Region\"]\n",
    "df_acc = df_acc.groupby([\"Location\",\"Last Update\"]).agg({\"Latitude\":np.max, \"Longitude\":np.max, \"Confirmed\":np.max,\"Deaths\":np.max,\"Recovered\":np.max})\n",
    "df_acc = df_acc.sort_index()\n",
    "new_index = pd.MultiIndex.from_product(df_acc.index.levels)\n",
    "df_acc = df_acc.reindex(new_index,method=\"ffill\").reset_index()\n"
   ]
  },
  {
   "cell_type": "code",
   "execution_count": 40,
   "metadata": {},
   "outputs": [
    {
     "name": "stdout",
     "output_type": "stream",
     "text": [
      "Index(['Location', 'Last Update', 'Latitude', 'Longitude', 'Confirmed',\n",
      "       'Deaths', 'Recovered'],\n",
      "      dtype='object')\n",
      "Shape: (197985, 7)\n"
     ]
    }
   ],
   "source": [
    "print(df_acc.columns)\n",
    "print(f\"Shape: {df_acc.shape}\")"
   ]
  },
  {
   "cell_type": "code",
   "execution_count": 34,
   "metadata": {},
   "outputs": [],
   "source": [
    "# Ensure you're handing the map floats\n",
    "df_acc['Latitude'] = df_acc['Latitude'].astype(float)\n",
    "df_acc['Longitude'] = df_acc['Longitude'].astype(float)"
   ]
  },
  {
   "cell_type": "code",
   "execution_count": 46,
   "metadata": {},
   "outputs": [],
   "source": [
    "# Select only relevant columns\n",
    "heat_df = df_acc[[\"Latitude\", \"Longitude\", \"Last Update\",\"Confirmed\",\"Deaths\",\"Recovered\"]].copy()\n",
    "\n",
    "# Enforce float\n",
    "heat_df[\"Confirmed\"] = heat_df[\"Confirmed\"].astype(float)\n",
    "heat_df[\"Deaths\"] = heat_df[\"Deaths\"].astype(float)\n",
    "heat_df[\"Recovered\"] = heat_df[\"Recovered\"].astype(float)\n"
   ]
  },
  {
   "cell_type": "code",
   "execution_count": 47,
   "metadata": {
    "scrolled": true
   },
   "outputs": [
    {
     "name": "stdout",
     "output_type": "stream",
     "text": [
      "Index(['Latitude', 'Longitude', 'Last Update', 'Confirmed', 'Deaths',\n",
      "       'Recovered'],\n",
      "      dtype='object')\n",
      "Shape: (197985, 6)\n"
     ]
    },
    {
     "data": {
      "text/plain": [
       "\"\\n DataFrame.pct_change(periods=1, fill_method='pad', limit=None, freq=None, **kwargs)[source]\\n Percentage change between the current and a prior element.\\n Computes the percentage change from the immediately previous row by default. This is useful in comparing the percentage of change in a time series of elements.\\n\""
      ]
     },
     "execution_count": 47,
     "metadata": {},
     "output_type": "execute_result"
    }
   ],
   "source": [
    "print(heat_df.columns)\n",
    "print(f\"Shape: {heat_df.shape}\")\n",
    "'''\n",
    " DataFrame.pct_change(periods=1, fill_method='pad', limit=None, freq=None, **kwargs)[source]\n",
    " Percentage change between the current and a prior element.\n",
    " Computes the percentage change from the immediately previous row by default. This is useful in comparing the percentage of change in a time series of elements.\n",
    "'''"
   ]
  },
  {
   "cell_type": "code",
   "execution_count": 48,
   "metadata": {},
   "outputs": [],
   "source": [
    "# Create weight column, using date\n",
    "heat_df['Confirmed'] = df_acc['Confirmed'].astype(float)\n",
    "heat_df['Deaths'] = df_acc['Deaths'].astype(float)\n",
    "heat_df['Recovered'] = df_acc['Recovered'].astype(float)\n",
    "\n",
    "heat_df = heat_df.dropna(axis=0, subset=['Latitude','Longitude', 'Confirmed'])\n",
    "heat_df = heat_df.sort_values(\"Last Update\")\n",
    "heat_df[\"Last Update\"] = pd.to_datetime(heat_df[\"Last Update\"]).dt.strftime('%Y-%m-%d')\n",
    "heat_df = heat_df[heat_df[\"Confirmed\"]>0]\n",
    "\n",
    "heat_df[\"local_growth\"] = heat_df.groupby([\"Latitude\", \"Longitude\"]).Confirmed.pct_change()\n",
    "heat_df[\"local_growth\"] = heat_df[\"local_growth\"].clip(0).fillna(0)\n"
   ]
  },
  {
   "cell_type": "code",
   "execution_count": 49,
   "metadata": {},
   "outputs": [
    {
     "name": "stdout",
     "output_type": "stream",
     "text": [
      "Index(['Latitude', 'Longitude', 'Last Update', 'Confirmed', 'Deaths',\n",
      "       'Recovered', 'local_growth'],\n",
      "      dtype='object')\n",
      "Shape: (110915, 7)\n"
     ]
    }
   ],
   "source": [
    "print(heat_df.columns)\n",
    "print(f\"Shape: {heat_df.shape}\")"
   ]
  },
  {
   "cell_type": "code",
   "execution_count": 24,
   "metadata": {},
   "outputs": [
    {
     "data": {
      "text/plain": [
       "<folium.map.LayerControl at 0x7f5d322caa20>"
      ]
     },
     "execution_count": 24,
     "metadata": {},
     "output_type": "execute_result"
    }
   ],
   "source": [
    "# for visualizing it assymtotically - scaling so that china won't overshadow everything else\n",
    "limit_value = heat_df[\"Confirmed\"].max()\n",
    "alpha = 1000\n",
    "\n",
    "# List comprehension to make out list of lists\n",
    "confirmed_data = [[[row['Latitude'],row['Longitude'],alpha*np.log(1+row[\"Confirmed\"]/limit_value)/(1+alpha*np.log(1+row[\"Confirmed\"]/limit_value))] for index, row in heat_df[heat_df['Last Update'] == i].iterrows()] for i in heat_df[\"Last Update\"].unique()]\n",
    "\n",
    "# Plot it on the map\n",
    "hm = plugins.HeatMapWithTime(confirmed_data,index=list(heat_df[\"Last Update\"].unique()),name=\"Confirmed cases\",auto_play=True,max_opacity=0.8)\n",
    "hm.add_to(map_hooray)\n",
    "\n",
    "ctrl = folium.LayerControl()\n",
    "ctrl.add_to(map_hooray)"
   ]
  },
  {
   "cell_type": "code",
   "execution_count": 51,
   "metadata": {
    "scrolled": true
   },
   "outputs": [
    {
     "data": {
      "text/html": [
       "<div style=\"width:100%;\"><div style=\"position:relative;width:100%;height:0;padding-bottom:60%;\"><span style=\"color:#565656\">Make this Notebook Trusted to load map: File -> Trust Notebook</span><iframe src=\"about:blank\" style=\"position:absolute;width:100%;height:100%;left:0;top:0;border:none !important;\" data-html=PCFET0NUWVBFIGh0bWw+CjxoZWFkPiAgICAKICAgIDxtZXRhIGh0dHAtZXF1aXY9ImNvbnRlbnQtdHlwZSIgY29udGVudD0idGV4dC9odG1sOyBjaGFyc2V0PVVURi04IiAvPgogICAgCiAgICAgICAgPHNjcmlwdD4KICAgICAgICAgICAgTF9OT19UT1VDSCA9IGZhbHNlOwogICAgICAgICAgICBMX0RJU0FCTEVfM0QgPSBmYWxzZTsKICAgICAgICA8L3NjcmlwdD4KICAgIAogICAgPHNjcmlwdCBzcmM9Imh0dHBzOi8vY2RuLmpzZGVsaXZyLm5ldC9ucG0vbGVhZmxldEAxLjYuMC9kaXN0L2xlYWZsZXQuanMiPjwvc2NyaXB0PgogICAgPHNjcmlwdCBzcmM9Imh0dHBzOi8vY29kZS5qcXVlcnkuY29tL2pxdWVyeS0xLjEyLjQubWluLmpzIj48L3NjcmlwdD4KICAgIDxzY3JpcHQgc3JjPSJodHRwczovL21heGNkbi5ib290c3RyYXBjZG4uY29tL2Jvb3RzdHJhcC8zLjIuMC9qcy9ib290c3RyYXAubWluLmpzIj48L3NjcmlwdD4KICAgIDxzY3JpcHQgc3JjPSJodHRwczovL2NkbmpzLmNsb3VkZmxhcmUuY29tL2FqYXgvbGlicy9MZWFmbGV0LmF3ZXNvbWUtbWFya2Vycy8yLjAuMi9sZWFmbGV0LmF3ZXNvbWUtbWFya2Vycy5qcyI+PC9zY3JpcHQ+CiAgICA8bGluayByZWw9InN0eWxlc2hlZXQiIGhyZWY9Imh0dHBzOi8vY2RuLmpzZGVsaXZyLm5ldC9ucG0vbGVhZmxldEAxLjYuMC9kaXN0L2xlYWZsZXQuY3NzIi8+CiAgICA8bGluayByZWw9InN0eWxlc2hlZXQiIGhyZWY9Imh0dHBzOi8vbWF4Y2RuLmJvb3RzdHJhcGNkbi5jb20vYm9vdHN0cmFwLzMuMi4wL2Nzcy9ib290c3RyYXAubWluLmNzcyIvPgogICAgPGxpbmsgcmVsPSJzdHlsZXNoZWV0IiBocmVmPSJodHRwczovL21heGNkbi5ib290c3RyYXBjZG4uY29tL2Jvb3RzdHJhcC8zLjIuMC9jc3MvYm9vdHN0cmFwLXRoZW1lLm1pbi5jc3MiLz4KICAgIDxsaW5rIHJlbD0ic3R5bGVzaGVldCIgaHJlZj0iaHR0cHM6Ly9tYXhjZG4uYm9vdHN0cmFwY2RuLmNvbS9mb250LWF3ZXNvbWUvNC42LjMvY3NzL2ZvbnQtYXdlc29tZS5taW4uY3NzIi8+CiAgICA8bGluayByZWw9InN0eWxlc2hlZXQiIGhyZWY9Imh0dHBzOi8vY2RuanMuY2xvdWRmbGFyZS5jb20vYWpheC9saWJzL0xlYWZsZXQuYXdlc29tZS1tYXJrZXJzLzIuMC4yL2xlYWZsZXQuYXdlc29tZS1tYXJrZXJzLmNzcyIvPgogICAgPGxpbmsgcmVsPSJzdHlsZXNoZWV0IiBocmVmPSJodHRwczovL3Jhd2Nkbi5naXRoYWNrLmNvbS9weXRob24tdmlzdWFsaXphdGlvbi9mb2xpdW0vbWFzdGVyL2ZvbGl1bS90ZW1wbGF0ZXMvbGVhZmxldC5hd2Vzb21lLnJvdGF0ZS5jc3MiLz4KICAgIDxzdHlsZT5odG1sLCBib2R5IHt3aWR0aDogMTAwJTtoZWlnaHQ6IDEwMCU7bWFyZ2luOiAwO3BhZGRpbmc6IDA7fTwvc3R5bGU+CiAgICA8c3R5bGU+I21hcCB7cG9zaXRpb246YWJzb2x1dGU7dG9wOjA7Ym90dG9tOjA7cmlnaHQ6MDtsZWZ0OjA7fTwvc3R5bGU+CiAgICAKICAgICAgICAgICAgPG1ldGEgbmFtZT0idmlld3BvcnQiIGNvbnRlbnQ9IndpZHRoPWRldmljZS13aWR0aCwKICAgICAgICAgICAgICAgIGluaXRpYWwtc2NhbGU9MS4wLCBtYXhpbXVtLXNjYWxlPTEuMCwgdXNlci1zY2FsYWJsZT1ubyIgLz4KICAgICAgICAgICAgPHN0eWxlPgogICAgICAgICAgICAgICAgI21hcF8zOTFhZWQ3OTIwM2M0NmMyYWNiOTE3OTA3ZDNkZjEzMyB7CiAgICAgICAgICAgICAgICAgICAgcG9zaXRpb246IHJlbGF0aXZlOwogICAgICAgICAgICAgICAgICAgIHdpZHRoOiAxMDAuMCU7CiAgICAgICAgICAgICAgICAgICAgaGVpZ2h0OiAxMDAuMCU7CiAgICAgICAgICAgICAgICAgICAgbGVmdDogMC4wJTsKICAgICAgICAgICAgICAgICAgICB0b3A6IDAuMCU7CiAgICAgICAgICAgICAgICB9CiAgICAgICAgICAgIDwvc3R5bGU+CiAgICAgICAgCjwvaGVhZD4KPGJvZHk+ICAgIAogICAgCiAgICAgICAgICAgIDxkaXYgY2xhc3M9ImZvbGl1bS1tYXAiIGlkPSJtYXBfMzkxYWVkNzkyMDNjNDZjMmFjYjkxNzkwN2QzZGYxMzMiID48L2Rpdj4KICAgICAgICAKPC9ib2R5Pgo8c2NyaXB0PiAgICAKICAgIAogICAgICAgICAgICB2YXIgbWFwXzM5MWFlZDc5MjAzYzQ2YzJhY2I5MTc5MDdkM2RmMTMzID0gTC5tYXAoCiAgICAgICAgICAgICAgICAibWFwXzM5MWFlZDc5MjAzYzQ2YzJhY2I5MTc5MDdkM2RmMTMzIiwKICAgICAgICAgICAgICAgIHsKICAgICAgICAgICAgICAgICAgICBjZW50ZXI6IFswLCAwXSwKICAgICAgICAgICAgICAgICAgICBjcnM6IEwuQ1JTLkVQU0czODU3LAogICAgICAgICAgICAgICAgICAgIHpvb206IDEsCiAgICAgICAgICAgICAgICAgICAgem9vbUNvbnRyb2w6IHRydWUsCiAgICAgICAgICAgICAgICAgICAgcHJlZmVyQ2FudmFzOiBmYWxzZSwKICAgICAgICAgICAgICAgIH0KICAgICAgICAgICAgKTsKCiAgICAgICAgICAgIAoKICAgICAgICAKICAgIAogICAgICAgICAgICB2YXIgdGlsZV9sYXllcl81ZjEzNTMzMDFjMmI0OWY4YjI1OTg2YzQ0NTRiNzg4OCA9IEwudGlsZUxheWVyKAogICAgICAgICAgICAgICAgImh0dHBzOi8ve3N9LnRpbGUub3BlbnN0cmVldG1hcC5vcmcve3p9L3t4fS97eX0ucG5nIiwKICAgICAgICAgICAgICAgIHsiYXR0cmlidXRpb24iOiAiRGF0YSBieSBcdTAwMjZjb3B5OyBcdTAwM2NhIGhyZWY9XCJodHRwOi8vb3BlbnN0cmVldG1hcC5vcmdcIlx1MDAzZU9wZW5TdHJlZXRNYXBcdTAwM2MvYVx1MDAzZSwgdW5kZXIgXHUwMDNjYSBocmVmPVwiaHR0cDovL3d3dy5vcGVuc3RyZWV0bWFwLm9yZy9jb3B5cmlnaHRcIlx1MDAzZU9EYkxcdTAwM2MvYVx1MDAzZS4iLCAiZGV0ZWN0UmV0aW5hIjogZmFsc2UsICJtYXhOYXRpdmVab29tIjogMTgsICJtYXhab29tIjogMTgsICJtaW5ab29tIjogMCwgIm5vV3JhcCI6IGZhbHNlLCAib3BhY2l0eSI6IDEsICJzdWJkb21haW5zIjogImFiYyIsICJ0bXMiOiBmYWxzZX0KICAgICAgICAgICAgKS5hZGRUbyhtYXBfMzkxYWVkNzkyMDNjNDZjMmFjYjkxNzkwN2QzZGYxMzMpOwogICAgICAgIAo8L3NjcmlwdD4= onload=\"this.contentDocument.open();this.contentDocument.write(atob(this.getAttribute('data-html')));this.contentDocument.close();\" allowfullscreen webkitallowfullscreen mozallowfullscreen></iframe></div></div>"
      ],
      "text/plain": [
       "<folium.folium.Map at 0x7ff5e2b53898>"
      ]
     },
     "execution_count": 51,
     "metadata": {},
     "output_type": "execute_result"
    }
   ],
   "source": [
    "# Display the map\n",
    "map_hooray"
   ]
  },
  {
   "cell_type": "code",
   "execution_count": 50,
   "metadata": {},
   "outputs": [],
   "source": [
    "# so what I need is...  \"confirmed\" = some float count.\n",
    "# lat - long = nearest city\n",
    "# last update = post published I guess"
   ]
  },
  {
   "cell_type": "code",
   "execution_count": null,
   "metadata": {},
   "outputs": [],
   "source": []
  }
 ],
 "metadata": {
  "kernelspec": {
   "display_name": "Python 3",
   "language": "python",
   "name": "python3"
  },
  "language_info": {
   "codemirror_mode": {
    "name": "ipython",
    "version": 3
   },
   "file_extension": ".py",
   "mimetype": "text/x-python",
   "name": "python",
   "nbconvert_exporter": "python",
   "pygments_lexer": "ipython3",
   "version": "3.6.9"
  }
 },
 "nbformat": 4,
 "nbformat_minor": 4
}
